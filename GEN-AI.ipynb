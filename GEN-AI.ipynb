{
  "nbformat": 4,
  "nbformat_minor": 0,
  "metadata": {
    "colab": {
      "provenance": []
    },
    "kernelspec": {
      "name": "python3",
      "display_name": "Python 3"
    },
    "language_info": {
      "name": "python"
    }
  },
  "cells": [
    {
      "cell_type": "code",
      "source": [
        "!pip install utils\n",
        "!pip install callbacks"
      ],
      "metadata": {
        "colab": {
          "base_uri": "https://localhost:8080/"
        },
        "id": "H_gOUukwtYDj",
        "outputId": "46e81658-2ae1-493c-db74-562496e006dc"
      },
      "execution_count": 2,
      "outputs": [
        {
          "output_type": "stream",
          "name": "stdout",
          "text": [
            "Collecting utils\n",
            "  Downloading utils-1.0.2.tar.gz (13 kB)\n",
            "  Preparing metadata (setup.py) ... \u001b[?25l\u001b[?25hdone\n",
            "Building wheels for collected packages: utils\n",
            "  Building wheel for utils (setup.py) ... \u001b[?25l\u001b[?25hdone\n",
            "  Created wheel for utils: filename=utils-1.0.2-py2.py3-none-any.whl size=13906 sha256=44a487a0a41c72a1fb95fa450894c80060a82cc1edb710da91ff9e1fa251da2d\n",
            "  Stored in directory: /root/.cache/pip/wheels/b8/39/f5/9d0ca31dba85773ececf0a7f5469f18810e1c8a8ed9da28ca7\n",
            "Successfully built utils\n",
            "Installing collected packages: utils\n",
            "Successfully installed utils-1.0.2\n",
            "Collecting callbacks\n",
            "  Downloading callbacks-0.3.0.tar.gz (9.4 kB)\n",
            "  Preparing metadata (setup.py) ... \u001b[?25l\u001b[?25hdone\n",
            "Building wheels for collected packages: callbacks\n",
            "  Building wheel for callbacks (setup.py) ... \u001b[?25l\u001b[?25hdone\n",
            "  Created wheel for callbacks: filename=callbacks-0.3.0-py3-none-any.whl size=5658 sha256=5543c3ce9d9cf003c403b09441c850ffd6f06e68128f0cca918e065e70456725\n",
            "  Stored in directory: /root/.cache/pip/wheels/bf/f3/9f/df52405b397996d24652af7e9ac37d417da34abe7b691f13cb\n",
            "Successfully built callbacks\n",
            "Installing collected packages: callbacks\n",
            "Successfully installed callbacks-0.3.0\n"
          ]
        }
      ]
    },
    {
      "cell_type": "code",
      "execution_count": 3,
      "metadata": {
        "id": "cDIjIEIubcsw"
      },
      "outputs": [],
      "source": [
        "import tensorflow as tf\n",
        "import utils\n",
        "from tensorflow import keras\n",
        "from tensorflow.keras.layers import Input, Reshape, Dropout, Dense\n",
        "from tensorflow.keras.layers import Flatten, BatchNormalization\n",
        "from tensorflow.keras.layers import Activation\n",
        "from tensorflow.keras.layers import LeakyReLU , ReLU, PReLU\n",
        "from tensorflow.keras.layers import Conv2D ,Conv2DTranspose\n",
        "from tensorflow.keras.models import Sequential, Model, load_model\n",
        "from tensorflow.keras.optimizers import Adam\n",
        "import numpy as np\n",
        "from PIL import Image\n",
        "import os\n",
        "import matplotlib.pyplot as plt\n",
        "\n"
      ]
    },
    {
      "cell_type": "code",
      "source": [
        "class save_images(keras.callbacks.Callback):\n",
        "    \"\"\"\n",
        "    This is a subclass of the keras.callbacks.Callback class.\n",
        "    On subclassing it we can specify methods which can be executed while training\n",
        "    \"\"\"\n",
        "\n",
        "    def __init__(self,noise,margin,num_rows,num_cols,**kwargs):\n",
        "        super(keras.callbacks.Callback,self).__init__(**kwargs)\n",
        "        self.noise = noise\n",
        "        self.margin = margin\n",
        "        self.num_rows = num_rows\n",
        "        self.num_cols = num_cols\n",
        "\n",
        "    # overwriting on_epoch_end() helps in executing a custom method when an epoch ends\n",
        "    def on_epoch_end(self, epoch, logs=None):\n",
        "        \"\"\"\n",
        "        Saves images generated from a fixed random vector by the generator to the disk\n",
        "\n",
        "        Parameters:\n",
        "            noise: fixed noise vector from a normal distribution to be fed to the generator.\n",
        "            num_rows: number of rows of images\n",
        "            num_cols: number of columns of images\n",
        "            margin: margin between images\n",
        "            generator: keras model representing the generator network\n",
        "\n",
        "        \"\"\"\n",
        "\n",
        "        # Generate a base array upon which images can then be added sequentially\n",
        "        image_array = np.full((\n",
        "            self.margin + (self.num_rows * (64 + self.margin)),\n",
        "            self.margin + (self.num_cols * (64 + self.margin)), 3),\n",
        "            255, dtype=np.uint8)\n",
        "\n",
        "        # Generate num_rows*num_cols number of images using the generator model\n",
        "        generated_images = self.model.generator.predict(self.noise)\n",
        "\n",
        "        # Convert pixel intensities to the range [0,1]\n",
        "        generated_images = 0.5 * generated_images + 0.5\n",
        "\n",
        "        #Images need not be converted into the typical [0,255] pixel intensity values because the PIL Image module accepts the range [0,1]\n",
        "\n",
        "\n",
        "        image_count = 0\n",
        "        for row in range(self.num_rows):\n",
        "            for col in range(self.num_cols):\n",
        "                r = row * (64 + 16) + self.margin\n",
        "                c = col * (64 + 16) + self.margin\n",
        "                image_array[r:r + 64, c:c + 64] = generated_images[image_count] * 255\n",
        "                image_count += 1\n",
        "\n",
        "        # The image array now contains all the images in an array format which can be stored to the disk\n",
        "\n",
        "        output_path = 'Epoch_images'\n",
        "        if not os.path.exists(output_path):\n",
        "            os.makedirs(output_path)\n",
        "\n",
        "        filename = os.path.join(output_path, f\"train-{epoch+1}.png\")\n",
        "        im = Image.fromarray(image_array)\n",
        "        im.save(filename)\n",
        "\n",
        "\n",
        "class checkpoint_callback(keras.callbacks.Callback):\n",
        "    \"\"\"\n",
        "    Subclass of keras.callbacks.Callback to save the weights every epoch in a .h5 file\n",
        "    \"\"\"\n",
        "    def __init__(self,**kwargs):\n",
        "        super(keras.callbacks.Callback, self).__init__(**kwargs)\n",
        "    def on_epoch_end(self, epoch, logs=None):\n",
        "        self.model.generator.save_weights(\"Weights/generator_weights-test.h5\")\n",
        "        self.model.discriminator.save_weights(\"Weights/discriminator_weights-test.h5\")"
      ],
      "metadata": {
        "id": "rtl9lijAxjwE"
      },
      "execution_count": 4,
      "outputs": []
    },
    {
      "cell_type": "code",
      "source": [
        "gpus = tf.config.experimental.list_physical_devices('GPU')\n",
        "if gpus:\n",
        "    try:\n",
        "        tf.config.experimental.set_visible_devices(gpus[0], 'GPU')\n",
        "        print(\"using GPU\")\n",
        "    except RuntimeError as e:\n",
        "        print(e)"
      ],
      "metadata": {
        "id": "NmIZ174EdQwB"
      },
      "execution_count": 5,
      "outputs": []
    },
    {
      "cell_type": "code",
      "source": [
        "data_path = \"/content/drive/MyDrive/Data\""
      ],
      "metadata": {
        "id": "RXf3XqUBnBDv"
      },
      "execution_count": 6,
      "outputs": []
    },
    {
      "cell_type": "code",
      "source": [
        "train_ds = tf.keras.preprocessing.image_dataset_from_directory(\n",
        "    data_path,\n",
        "    label_mode=None,\n",
        "    color_mode='rgb',\n",
        "    batch_size=128,\n",
        "    image_size=(64, 64),\n",
        "    shuffle=True\n",
        ")\n",
        "\n",
        "train_ds = train_ds.map(lambda x: ((x/127.5)-1))"
      ],
      "metadata": {
        "colab": {
          "base_uri": "https://localhost:8080/"
        },
        "id": "0gj6lkiwnei2",
        "outputId": "c961354d-d298-4c5e-f422-8195daea9398"
      },
      "execution_count": 8,
      "outputs": [
        {
          "output_type": "stream",
          "name": "stdout",
          "text": [
            "Found 1077 files belonging to 1 classes.\n"
          ]
        }
      ]
    },
    {
      "cell_type": "code",
      "source": [
        "init = tf.keras.initializers.RandomNormal(stddev=0.02)"
      ],
      "metadata": {
        "id": "KA62y_Aav9IS"
      },
      "execution_count": 9,
      "outputs": []
    },
    {
      "cell_type": "code",
      "source": [
        "def build_generator(seed_size):\n",
        "    \"\"\"\n",
        "    Builds the generator model\n",
        "\n",
        "    Parameters:\n",
        "        seed_size: size of the random vector fed into the generator\n",
        "\n",
        "    Returns:\n",
        "        model: keras model representing the generator\n",
        "    \"\"\"\n",
        "    model = Sequential()\n",
        "\n",
        "    # Block - 1\n",
        "    model.add(Dense(4*4*1024,kernel_initializer=init,input_dim=seed_size))\n",
        "    model.add(BatchNormalization())\n",
        "    model.add(ReLU())\n",
        "    model.add(Reshape((4,4,1024))) # Resulting shape = (4,4,1024)\n",
        "\n",
        "    # Block - 2\n",
        "    model.add(Conv2DTranspose(512,kernel_size=5,strides=2,padding='same',use_bias=False,kernel_initializer=init))\n",
        "    model.add(BatchNormalization())\n",
        "    model.add(ReLU())  # Resulting shape = (8,8,512)\n",
        "\n",
        "    # Block - 3\n",
        "    model.add(Conv2DTranspose(256,kernel_size=5,strides=2,padding='same',use_bias=False,kernel_initializer=init))\n",
        "    model.add(BatchNormalization())\n",
        "    model.add(ReLU()) # Resulting shape = (16,16,256)\n",
        "\n",
        "    # Block - 4\n",
        "    model.add(Conv2DTranspose(128,kernel_size=3,strides=2,padding='same',use_bias=False,kernel_initializer=init))\n",
        "    model.add(BatchNormalization())\n",
        "    model.add(ReLU()) # Resulting shape = (32,32,128)\n",
        "\n",
        "    # Block - 5\n",
        "    model.add(Conv2DTranspose(3,kernel_size=3,strides=2,padding='same',use_bias=False,kernel_initializer=init))\n",
        "    model.add(Activation('tanh')) # Resulting shape = (64,64,3)\n",
        "\n",
        "    return model"
      ],
      "metadata": {
        "id": "FpT4-l_6v_yZ"
      },
      "execution_count": 10,
      "outputs": []
    },
    {
      "cell_type": "code",
      "source": [
        "def build_discriminator(image_length,image_channels):\n",
        "\n",
        "    \"\"\"\n",
        "    Builds the generator model\n",
        "\n",
        "    Parameters:\n",
        "        image_length: length of a side of the square image\n",
        "        image_channels: number of channels in the image\n",
        "\n",
        "    Returns:\n",
        "        model: keras model representing the discriminator\n",
        "    \"\"\"\n",
        "\n",
        "    model = Sequential()\n",
        "\n",
        "    # Block - 1\n",
        "    model.add(Conv2D(64,kernel_size=3,strides=2,padding='same',use_bias=False,input_shape=(image_length,image_length,image_channels),kernel_initializer=init))\n",
        "    model.add(LeakyReLU(alpha=0.2)) # Resulting shape = (32,32,64)\n",
        "\n",
        "    # Block - 2\n",
        "    model.add(Conv2D(128,kernel_size=3,strides=2,padding='same',use_bias=False,kernel_initializer=init))\n",
        "    model.add(BatchNormalization())\n",
        "    model.add(LeakyReLU(alpha=0.2)) # Resulting shape = (16,16,128)\n",
        "\n",
        "    # Block - 3\n",
        "    model.add(Conv2D(256,kernel_size=5,strides=2,padding='same',use_bias=False,kernel_initializer=init))\n",
        "    model.add(BatchNormalization())\n",
        "    model.add(LeakyReLU(alpha=0.2)) # Resulting shape = (8,8,256)\n",
        "\n",
        "    # Block - 4\n",
        "    model.add(Conv2D(512,kernel_size=5,strides=2,padding='same',use_bias=False,kernel_initializer=init))\n",
        "    model.add(BatchNormalization())\n",
        "    model.add(LeakyReLU(alpha=0.2)) # Resulting shape = (4,4,512)\n",
        "\n",
        "    # Block - 5\n",
        "    model.add(Conv2D(1,kernel_size=4,strides=1,padding='valid',use_bias=False,kernel_initializer=init))\n",
        "    model.add(Flatten())\n",
        "    model.add(Activation('sigmoid'))\n",
        "\n",
        "    return model"
      ],
      "metadata": {
        "id": "t47nQYUHwF_N"
      },
      "execution_count": 11,
      "outputs": []
    },
    {
      "cell_type": "code",
      "source": [
        "cross_entropy = tf.keras.losses.BinaryCrossentropy()"
      ],
      "metadata": {
        "id": "Q_RlwRCewMC_"
      },
      "execution_count": 12,
      "outputs": []
    },
    {
      "cell_type": "code",
      "source": [
        "class DCGAN(keras.Model):\n",
        "    \"\"\"Subclass of the keras.Model class to define custom training step and loss functions\"\"\"\n",
        "\n",
        "\n",
        "    def __init__(self,seed_size,image_length,image_channels,**kwargs):\n",
        "        \"\"\"\n",
        "        Parameters:\n",
        "            seed_size: size of the random vector for the generator\n",
        "            image_length: length of a side of the square image\n",
        "            image_channels: number of channels in the image\n",
        "        \"\"\"\n",
        "        super(DCGAN,self).__init__(**kwargs)\n",
        "\n",
        "        self.generator = build_generator(seed_size)\n",
        "        self.discriminator = build_discriminator(image_length,image_channels)\n",
        "        self.seed_size = seed_size\n",
        "\n",
        "\n",
        "   # Train generator to give realistic images and penalize it for giving images being classified as fake by the discriminator\n",
        "    def generator_loss(self,fake_output):\n",
        "        \"\"\"\n",
        "        Parameters:\n",
        "            fake_output: Tensor containing the respective discriminator's predictions for the batch of images produced\n",
        "            by generator (fake iamges).\n",
        "\n",
        "        Returns:\n",
        "            cross entropy loss between labels for real images (1's) and the discriminator's estimate\n",
        "        \"\"\"\n",
        "\n",
        "        # The objective is to penalize the generator whenever it produces images which the discriminator classifies as 'fake'\n",
        "        return cross_entropy(tf.ones_like(fake_output), fake_output)\n",
        "\n",
        "\n",
        "        # smooth parameter is used to induce one sided label smoothing. It can be tuned accordingly\n",
        "    def discriminator_loss(self,real_output, fake_output,smooth=0.1):\n",
        "        \"\"\"\n",
        "        Parameters:\n",
        "           real_output: Tensor containing the respective discriminator's predictions for the batch of images taken from\n",
        "                        the dataset (real images).\n",
        "            fake_output: Tensor containing the respective discriminator's predictions for the batch of images produced\n",
        "                        by generator (fake images).\n",
        "\n",
        "        Returns:\n",
        "            total_loss: Loss of the discriminator for misclassifying images\n",
        "        \"\"\"\n",
        "        # label for real image is (1-smooth)\n",
        "        real_loss = cross_entropy(tf.ones_like(real_output)*(1-smooth), real_output)\n",
        "        fake_loss = cross_entropy(tf.zeros_like(fake_output), fake_output)\n",
        "        total_loss = real_loss + fake_loss\n",
        "        return total_loss\n",
        "\n",
        "    def compile(self,generator_optimizer,discriminator_optimizer):\n",
        "        \"\"\"\n",
        "        configures model for training by adding optimizers\n",
        "\n",
        "        Parameters:\n",
        "            generator_optimizer: keras optimizer to be used to train generator.\n",
        "            discriminator_optimizer: keras optimizer to be used to train discriminator.\n",
        "        \"\"\"\n",
        "        super(DCGAN, self).compile()\n",
        "        self.generator_optimizer = generator_optimizer\n",
        "        self.discriminator_optimizer = discriminator_optimizer\n",
        "\n",
        "    @tf.function\n",
        "    def train_step(self,data):\n",
        "\n",
        "        \"\"\"\n",
        "        Takes in training data and does a forward pass\n",
        "\n",
        "        Parameters:\n",
        "            data: a batch from the training data.\n",
        "        Returns:\n",
        "            gen_loss: loss associated with the generator.\n",
        "            disc_loss: loss associated with the discriminator.\n",
        "        \"\"\"\n",
        "\n",
        "        batch_size = tf.shape(data)[0]\n",
        "\n",
        "        # feed a random input to generator\n",
        "        seed = tf.random.normal(shape=(batch_size,self.seed_size))\n",
        "\n",
        "        with tf.GradientTape() as gen_tape, tf.GradientTape() as disc_tape:\n",
        "\n",
        "            # generate image using generator\n",
        "            generated_image = self.generator(seed, training = True)\n",
        "\n",
        "            # discriminator's prediction for real image\n",
        "            real_output = self.discriminator(data,training = True)\n",
        "\n",
        "            # discriminator's estimate for fake image\n",
        "            fake_output = self.discriminator(generated_image,training = True)\n",
        "\n",
        "            # compute loss\n",
        "            gen_loss = self.generator_loss(fake_output)\n",
        "            disc_loss = self.discriminator_loss(real_output,fake_output)\n",
        "\n",
        "            # optimize generator first\n",
        "            generator_grad = gen_tape.gradient(gen_loss,self.generator.trainable_variables)\n",
        "            discriminator_grad = disc_tape.gradient(disc_loss,self.discriminator.trainable_variables)\n",
        "\n",
        "            # optimize discriminator after generator\n",
        "            self.generator_optimizer.apply_gradients(zip(generator_grad,self.generator.trainable_variables))\n",
        "            self.discriminator_optimizer.apply_gradients(zip(discriminator_grad,self.discriminator.trainable_variables))\n",
        "\n",
        "        return {\n",
        "            \"generator loss\": gen_loss,\n",
        "            \"discriminator_loss\": disc_loss\n",
        "        }\n"
      ],
      "metadata": {
        "id": "wPHLb44QwPdp"
      },
      "execution_count": 13,
      "outputs": []
    },
    {
      "cell_type": "code",
      "source": [
        "# parameters and hyperparameters\n",
        "image_length = 64\n",
        "image_channels = 3\n",
        "batch_size = 128\n",
        "seed_size = 128\n",
        "\n",
        "NUM_ROWS = 4\n",
        "NUM_COLS = 7\n",
        "MARGIN = 16\n",
        "\n",
        "fixed_seed = tf.random.normal(shape=(NUM_ROWS * NUM_COLS, seed_size))\n",
        "# We are defining a fixed seed because we want to see the generator's images quality by generating the same images every epoch"
      ],
      "metadata": {
        "id": "zrGBvlS2wmmV"
      },
      "execution_count": 14,
      "outputs": []
    },
    {
      "cell_type": "code",
      "source": [
        "generator_optimizer = Adam(learning_rate=0.0002,beta_1=0.5)\n",
        "discriminator_optimizer = Adam(learning_rate=0.0002,beta_1=0.5)\n",
        "\n",
        "dcgan = DCGAN(seed_size,image_length,image_channels)\n",
        "dcgan.compile(generator_optimizer,discriminator_optimizer)"
      ],
      "metadata": {
        "id": "gUnUBYccwsAP"
      },
      "execution_count": 15,
      "outputs": []
    },
    {
      "cell_type": "code",
      "source": [
        "output_directory = 'Weights'\n",
        "\n",
        "# Check if the directory exists, and if not, create it\n",
        "if not os.path.exists(output_directory):\n",
        "    os.makedirs(output_directory)"
      ],
      "metadata": {
        "id": "gHENlwQC7S6F"
      },
      "execution_count": 16,
      "outputs": []
    },
    {
      "cell_type": "code",
      "source": [
        "with tf.device('/GPU:0'):\n",
        "\n",
        "    #uncomment the next two lines if not training from scratch\n",
        "    #dcgan.generator.load_weights(\"Weights/generator_weights.h5\")\n",
        "    #dcgan.discriminator.load_weights(\"Weights/discriminator_weights.h5\")\n",
        "\n",
        "    history = dcgan.fit(train_ds,epochs=120,batch_size=batch_size,\n",
        "                        callbacks=[\n",
        "                            save_images(noise=fixed_seed,num_rows=NUM_ROWS,num_cols=NUM_COLS,margin=MARGIN),\n",
        "                            checkpoint_callback()\n",
        "                        ])"
      ],
      "metadata": {
        "colab": {
          "base_uri": "https://localhost:8080/",
          "height": 391
        },
        "id": "g3q1tA3Zwv7t",
        "outputId": "4ecf3be2-85be-4c6d-e6ba-9d105db5ea99"
      },
      "execution_count": 17,
      "outputs": [
        {
          "output_type": "stream",
          "name": "stdout",
          "text": [
            "Epoch 1/120\n",
            "2/9 [=====>........................] - ETA: 4:02 - generator loss: 0.4623 - discriminator_loss: 2.1841 "
          ]
        },
        {
          "output_type": "error",
          "ename": "KeyboardInterrupt",
          "evalue": "",
          "traceback": [
            "\u001b[0;31m---------------------------------------------------------------------------\u001b[0m",
            "\u001b[0;31mKeyboardInterrupt\u001b[0m                         Traceback (most recent call last)",
            "\u001b[0;32m<ipython-input-17-8dec0c23ee1d>\u001b[0m in \u001b[0;36m<cell line: 1>\u001b[0;34m()\u001b[0m\n\u001b[1;32m      5\u001b[0m     \u001b[0;31m#dcgan.discriminator.load_weights(\"Weights/discriminator_weights.h5\")\u001b[0m\u001b[0;34m\u001b[0m\u001b[0;34m\u001b[0m\u001b[0m\n\u001b[1;32m      6\u001b[0m \u001b[0;34m\u001b[0m\u001b[0m\n\u001b[0;32m----> 7\u001b[0;31m     history = dcgan.fit(train_ds,epochs=120,batch_size=batch_size,\n\u001b[0m\u001b[1;32m      8\u001b[0m                         callbacks=[\n\u001b[1;32m      9\u001b[0m                             \u001b[0msave_images\u001b[0m\u001b[0;34m(\u001b[0m\u001b[0mnoise\u001b[0m\u001b[0;34m=\u001b[0m\u001b[0mfixed_seed\u001b[0m\u001b[0;34m,\u001b[0m\u001b[0mnum_rows\u001b[0m\u001b[0;34m=\u001b[0m\u001b[0mNUM_ROWS\u001b[0m\u001b[0;34m,\u001b[0m\u001b[0mnum_cols\u001b[0m\u001b[0;34m=\u001b[0m\u001b[0mNUM_COLS\u001b[0m\u001b[0;34m,\u001b[0m\u001b[0mmargin\u001b[0m\u001b[0;34m=\u001b[0m\u001b[0mMARGIN\u001b[0m\u001b[0;34m)\u001b[0m\u001b[0;34m,\u001b[0m\u001b[0;34m\u001b[0m\u001b[0;34m\u001b[0m\u001b[0m\n",
            "\u001b[0;32m/usr/local/lib/python3.10/dist-packages/keras/src/utils/traceback_utils.py\u001b[0m in \u001b[0;36merror_handler\u001b[0;34m(*args, **kwargs)\u001b[0m\n\u001b[1;32m     63\u001b[0m         \u001b[0mfiltered_tb\u001b[0m \u001b[0;34m=\u001b[0m \u001b[0;32mNone\u001b[0m\u001b[0;34m\u001b[0m\u001b[0;34m\u001b[0m\u001b[0m\n\u001b[1;32m     64\u001b[0m         \u001b[0;32mtry\u001b[0m\u001b[0;34m:\u001b[0m\u001b[0;34m\u001b[0m\u001b[0;34m\u001b[0m\u001b[0m\n\u001b[0;32m---> 65\u001b[0;31m             \u001b[0;32mreturn\u001b[0m \u001b[0mfn\u001b[0m\u001b[0;34m(\u001b[0m\u001b[0;34m*\u001b[0m\u001b[0margs\u001b[0m\u001b[0;34m,\u001b[0m \u001b[0;34m**\u001b[0m\u001b[0mkwargs\u001b[0m\u001b[0;34m)\u001b[0m\u001b[0;34m\u001b[0m\u001b[0;34m\u001b[0m\u001b[0m\n\u001b[0m\u001b[1;32m     66\u001b[0m         \u001b[0;32mexcept\u001b[0m \u001b[0mException\u001b[0m \u001b[0;32mas\u001b[0m \u001b[0me\u001b[0m\u001b[0;34m:\u001b[0m\u001b[0;34m\u001b[0m\u001b[0;34m\u001b[0m\u001b[0m\n\u001b[1;32m     67\u001b[0m             \u001b[0mfiltered_tb\u001b[0m \u001b[0;34m=\u001b[0m \u001b[0m_process_traceback_frames\u001b[0m\u001b[0;34m(\u001b[0m\u001b[0me\u001b[0m\u001b[0;34m.\u001b[0m\u001b[0m__traceback__\u001b[0m\u001b[0;34m)\u001b[0m\u001b[0;34m\u001b[0m\u001b[0;34m\u001b[0m\u001b[0m\n",
            "\u001b[0;32m/usr/local/lib/python3.10/dist-packages/keras/src/engine/training.py\u001b[0m in \u001b[0;36mfit\u001b[0;34m(self, x, y, batch_size, epochs, verbose, callbacks, validation_split, validation_data, shuffle, class_weight, sample_weight, initial_epoch, steps_per_epoch, validation_steps, validation_batch_size, validation_freq, max_queue_size, workers, use_multiprocessing)\u001b[0m\n\u001b[1;32m   1805\u001b[0m                         ):\n\u001b[1;32m   1806\u001b[0m                             \u001b[0mcallbacks\u001b[0m\u001b[0;34m.\u001b[0m\u001b[0mon_train_batch_begin\u001b[0m\u001b[0;34m(\u001b[0m\u001b[0mstep\u001b[0m\u001b[0;34m)\u001b[0m\u001b[0;34m\u001b[0m\u001b[0;34m\u001b[0m\u001b[0m\n\u001b[0;32m-> 1807\u001b[0;31m                             \u001b[0mtmp_logs\u001b[0m \u001b[0;34m=\u001b[0m \u001b[0mself\u001b[0m\u001b[0;34m.\u001b[0m\u001b[0mtrain_function\u001b[0m\u001b[0;34m(\u001b[0m\u001b[0miterator\u001b[0m\u001b[0;34m)\u001b[0m\u001b[0;34m\u001b[0m\u001b[0;34m\u001b[0m\u001b[0m\n\u001b[0m\u001b[1;32m   1808\u001b[0m                             \u001b[0;32mif\u001b[0m \u001b[0mdata_handler\u001b[0m\u001b[0;34m.\u001b[0m\u001b[0mshould_sync\u001b[0m\u001b[0;34m:\u001b[0m\u001b[0;34m\u001b[0m\u001b[0;34m\u001b[0m\u001b[0m\n\u001b[1;32m   1809\u001b[0m                                 \u001b[0mcontext\u001b[0m\u001b[0;34m.\u001b[0m\u001b[0masync_wait\u001b[0m\u001b[0;34m(\u001b[0m\u001b[0;34m)\u001b[0m\u001b[0;34m\u001b[0m\u001b[0;34m\u001b[0m\u001b[0m\n",
            "\u001b[0;32m/usr/local/lib/python3.10/dist-packages/tensorflow/python/util/traceback_utils.py\u001b[0m in \u001b[0;36merror_handler\u001b[0;34m(*args, **kwargs)\u001b[0m\n\u001b[1;32m    148\u001b[0m     \u001b[0mfiltered_tb\u001b[0m \u001b[0;34m=\u001b[0m \u001b[0;32mNone\u001b[0m\u001b[0;34m\u001b[0m\u001b[0;34m\u001b[0m\u001b[0m\n\u001b[1;32m    149\u001b[0m     \u001b[0;32mtry\u001b[0m\u001b[0;34m:\u001b[0m\u001b[0;34m\u001b[0m\u001b[0;34m\u001b[0m\u001b[0m\n\u001b[0;32m--> 150\u001b[0;31m       \u001b[0;32mreturn\u001b[0m \u001b[0mfn\u001b[0m\u001b[0;34m(\u001b[0m\u001b[0;34m*\u001b[0m\u001b[0margs\u001b[0m\u001b[0;34m,\u001b[0m \u001b[0;34m**\u001b[0m\u001b[0mkwargs\u001b[0m\u001b[0;34m)\u001b[0m\u001b[0;34m\u001b[0m\u001b[0;34m\u001b[0m\u001b[0m\n\u001b[0m\u001b[1;32m    151\u001b[0m     \u001b[0;32mexcept\u001b[0m \u001b[0mException\u001b[0m \u001b[0;32mas\u001b[0m \u001b[0me\u001b[0m\u001b[0;34m:\u001b[0m\u001b[0;34m\u001b[0m\u001b[0;34m\u001b[0m\u001b[0m\n\u001b[1;32m    152\u001b[0m       \u001b[0mfiltered_tb\u001b[0m \u001b[0;34m=\u001b[0m \u001b[0m_process_traceback_frames\u001b[0m\u001b[0;34m(\u001b[0m\u001b[0me\u001b[0m\u001b[0;34m.\u001b[0m\u001b[0m__traceback__\u001b[0m\u001b[0;34m)\u001b[0m\u001b[0;34m\u001b[0m\u001b[0;34m\u001b[0m\u001b[0m\n",
            "\u001b[0;32m/usr/local/lib/python3.10/dist-packages/tensorflow/python/eager/polymorphic_function/polymorphic_function.py\u001b[0m in \u001b[0;36m__call__\u001b[0;34m(self, *args, **kwds)\u001b[0m\n\u001b[1;32m    830\u001b[0m \u001b[0;34m\u001b[0m\u001b[0m\n\u001b[1;32m    831\u001b[0m       \u001b[0;32mwith\u001b[0m \u001b[0mOptionalXlaContext\u001b[0m\u001b[0;34m(\u001b[0m\u001b[0mself\u001b[0m\u001b[0;34m.\u001b[0m\u001b[0m_jit_compile\u001b[0m\u001b[0;34m)\u001b[0m\u001b[0;34m:\u001b[0m\u001b[0;34m\u001b[0m\u001b[0;34m\u001b[0m\u001b[0m\n\u001b[0;32m--> 832\u001b[0;31m         \u001b[0mresult\u001b[0m \u001b[0;34m=\u001b[0m \u001b[0mself\u001b[0m\u001b[0;34m.\u001b[0m\u001b[0m_call\u001b[0m\u001b[0;34m(\u001b[0m\u001b[0;34m*\u001b[0m\u001b[0margs\u001b[0m\u001b[0;34m,\u001b[0m \u001b[0;34m**\u001b[0m\u001b[0mkwds\u001b[0m\u001b[0;34m)\u001b[0m\u001b[0;34m\u001b[0m\u001b[0;34m\u001b[0m\u001b[0m\n\u001b[0m\u001b[1;32m    833\u001b[0m \u001b[0;34m\u001b[0m\u001b[0m\n\u001b[1;32m    834\u001b[0m       \u001b[0mnew_tracing_count\u001b[0m \u001b[0;34m=\u001b[0m \u001b[0mself\u001b[0m\u001b[0;34m.\u001b[0m\u001b[0mexperimental_get_tracing_count\u001b[0m\u001b[0;34m(\u001b[0m\u001b[0;34m)\u001b[0m\u001b[0;34m\u001b[0m\u001b[0;34m\u001b[0m\u001b[0m\n",
            "\u001b[0;32m/usr/local/lib/python3.10/dist-packages/tensorflow/python/eager/polymorphic_function/polymorphic_function.py\u001b[0m in \u001b[0;36m_call\u001b[0;34m(self, *args, **kwds)\u001b[0m\n\u001b[1;32m    875\u001b[0m       \u001b[0;31m# In this case we have not created variables on the first call. So we can\u001b[0m\u001b[0;34m\u001b[0m\u001b[0;34m\u001b[0m\u001b[0m\n\u001b[1;32m    876\u001b[0m       \u001b[0;31m# run the first trace but we should fail if variables are created.\u001b[0m\u001b[0;34m\u001b[0m\u001b[0;34m\u001b[0m\u001b[0m\n\u001b[0;32m--> 877\u001b[0;31m       results = tracing_compilation.call_function(\n\u001b[0m\u001b[1;32m    878\u001b[0m           \u001b[0margs\u001b[0m\u001b[0;34m,\u001b[0m \u001b[0mkwds\u001b[0m\u001b[0;34m,\u001b[0m \u001b[0mself\u001b[0m\u001b[0;34m.\u001b[0m\u001b[0m_variable_creation_config\u001b[0m\u001b[0;34m\u001b[0m\u001b[0;34m\u001b[0m\u001b[0m\n\u001b[1;32m    879\u001b[0m       )\n",
            "\u001b[0;32m/usr/local/lib/python3.10/dist-packages/tensorflow/python/eager/polymorphic_function/tracing_compilation.py\u001b[0m in \u001b[0;36mcall_function\u001b[0;34m(args, kwargs, tracing_options)\u001b[0m\n\u001b[1;32m    137\u001b[0m   \u001b[0mbound_args\u001b[0m \u001b[0;34m=\u001b[0m \u001b[0mfunction\u001b[0m\u001b[0;34m.\u001b[0m\u001b[0mfunction_type\u001b[0m\u001b[0;34m.\u001b[0m\u001b[0mbind\u001b[0m\u001b[0;34m(\u001b[0m\u001b[0;34m*\u001b[0m\u001b[0margs\u001b[0m\u001b[0;34m,\u001b[0m \u001b[0;34m**\u001b[0m\u001b[0mkwargs\u001b[0m\u001b[0;34m)\u001b[0m\u001b[0;34m\u001b[0m\u001b[0;34m\u001b[0m\u001b[0m\n\u001b[1;32m    138\u001b[0m   \u001b[0mflat_inputs\u001b[0m \u001b[0;34m=\u001b[0m \u001b[0mfunction\u001b[0m\u001b[0;34m.\u001b[0m\u001b[0mfunction_type\u001b[0m\u001b[0;34m.\u001b[0m\u001b[0munpack_inputs\u001b[0m\u001b[0;34m(\u001b[0m\u001b[0mbound_args\u001b[0m\u001b[0;34m)\u001b[0m\u001b[0;34m\u001b[0m\u001b[0;34m\u001b[0m\u001b[0m\n\u001b[0;32m--> 139\u001b[0;31m   return function._call_flat(  # pylint: disable=protected-access\n\u001b[0m\u001b[1;32m    140\u001b[0m       \u001b[0mflat_inputs\u001b[0m\u001b[0;34m,\u001b[0m \u001b[0mcaptured_inputs\u001b[0m\u001b[0;34m=\u001b[0m\u001b[0mfunction\u001b[0m\u001b[0;34m.\u001b[0m\u001b[0mcaptured_inputs\u001b[0m\u001b[0;34m\u001b[0m\u001b[0;34m\u001b[0m\u001b[0m\n\u001b[1;32m    141\u001b[0m   )\n",
            "\u001b[0;32m/usr/local/lib/python3.10/dist-packages/tensorflow/python/eager/polymorphic_function/concrete_function.py\u001b[0m in \u001b[0;36m_call_flat\u001b[0;34m(self, tensor_inputs, captured_inputs)\u001b[0m\n\u001b[1;32m   1321\u001b[0m         and executing_eagerly):\n\u001b[1;32m   1322\u001b[0m       \u001b[0;31m# No tape is watching; skip to running the function.\u001b[0m\u001b[0;34m\u001b[0m\u001b[0;34m\u001b[0m\u001b[0m\n\u001b[0;32m-> 1323\u001b[0;31m       \u001b[0;32mreturn\u001b[0m \u001b[0mself\u001b[0m\u001b[0;34m.\u001b[0m\u001b[0m_inference_function\u001b[0m\u001b[0;34m.\u001b[0m\u001b[0mcall_preflattened\u001b[0m\u001b[0;34m(\u001b[0m\u001b[0margs\u001b[0m\u001b[0;34m)\u001b[0m\u001b[0;34m\u001b[0m\u001b[0;34m\u001b[0m\u001b[0m\n\u001b[0m\u001b[1;32m   1324\u001b[0m     forward_backward = self._select_forward_and_backward_functions(\n\u001b[1;32m   1325\u001b[0m         \u001b[0margs\u001b[0m\u001b[0;34m,\u001b[0m\u001b[0;34m\u001b[0m\u001b[0;34m\u001b[0m\u001b[0m\n",
            "\u001b[0;32m/usr/local/lib/python3.10/dist-packages/tensorflow/python/eager/polymorphic_function/atomic_function.py\u001b[0m in \u001b[0;36mcall_preflattened\u001b[0;34m(self, args)\u001b[0m\n\u001b[1;32m    214\u001b[0m   \u001b[0;32mdef\u001b[0m \u001b[0mcall_preflattened\u001b[0m\u001b[0;34m(\u001b[0m\u001b[0mself\u001b[0m\u001b[0;34m,\u001b[0m \u001b[0margs\u001b[0m\u001b[0;34m:\u001b[0m \u001b[0mSequence\u001b[0m\u001b[0;34m[\u001b[0m\u001b[0mcore\u001b[0m\u001b[0;34m.\u001b[0m\u001b[0mTensor\u001b[0m\u001b[0;34m]\u001b[0m\u001b[0;34m)\u001b[0m \u001b[0;34m->\u001b[0m \u001b[0mAny\u001b[0m\u001b[0;34m:\u001b[0m\u001b[0;34m\u001b[0m\u001b[0;34m\u001b[0m\u001b[0m\n\u001b[1;32m    215\u001b[0m     \u001b[0;34m\"\"\"Calls with flattened tensor inputs and returns the structured output.\"\"\"\u001b[0m\u001b[0;34m\u001b[0m\u001b[0;34m\u001b[0m\u001b[0m\n\u001b[0;32m--> 216\u001b[0;31m     \u001b[0mflat_outputs\u001b[0m \u001b[0;34m=\u001b[0m \u001b[0mself\u001b[0m\u001b[0;34m.\u001b[0m\u001b[0mcall_flat\u001b[0m\u001b[0;34m(\u001b[0m\u001b[0;34m*\u001b[0m\u001b[0margs\u001b[0m\u001b[0;34m)\u001b[0m\u001b[0;34m\u001b[0m\u001b[0;34m\u001b[0m\u001b[0m\n\u001b[0m\u001b[1;32m    217\u001b[0m     \u001b[0;32mreturn\u001b[0m \u001b[0mself\u001b[0m\u001b[0;34m.\u001b[0m\u001b[0mfunction_type\u001b[0m\u001b[0;34m.\u001b[0m\u001b[0mpack_output\u001b[0m\u001b[0;34m(\u001b[0m\u001b[0mflat_outputs\u001b[0m\u001b[0;34m)\u001b[0m\u001b[0;34m\u001b[0m\u001b[0;34m\u001b[0m\u001b[0m\n\u001b[1;32m    218\u001b[0m \u001b[0;34m\u001b[0m\u001b[0m\n",
            "\u001b[0;32m/usr/local/lib/python3.10/dist-packages/tensorflow/python/eager/polymorphic_function/atomic_function.py\u001b[0m in \u001b[0;36mcall_flat\u001b[0;34m(self, *args)\u001b[0m\n\u001b[1;32m    249\u001b[0m         \u001b[0;32mwith\u001b[0m \u001b[0mrecord\u001b[0m\u001b[0;34m.\u001b[0m\u001b[0mstop_recording\u001b[0m\u001b[0;34m(\u001b[0m\u001b[0;34m)\u001b[0m\u001b[0;34m:\u001b[0m\u001b[0;34m\u001b[0m\u001b[0;34m\u001b[0m\u001b[0m\n\u001b[1;32m    250\u001b[0m           \u001b[0;32mif\u001b[0m \u001b[0mself\u001b[0m\u001b[0;34m.\u001b[0m\u001b[0m_bound_context\u001b[0m\u001b[0;34m.\u001b[0m\u001b[0mexecuting_eagerly\u001b[0m\u001b[0;34m(\u001b[0m\u001b[0;34m)\u001b[0m\u001b[0;34m:\u001b[0m\u001b[0;34m\u001b[0m\u001b[0;34m\u001b[0m\u001b[0m\n\u001b[0;32m--> 251\u001b[0;31m             outputs = self._bound_context.call_function(\n\u001b[0m\u001b[1;32m    252\u001b[0m                 \u001b[0mself\u001b[0m\u001b[0;34m.\u001b[0m\u001b[0mname\u001b[0m\u001b[0;34m,\u001b[0m\u001b[0;34m\u001b[0m\u001b[0;34m\u001b[0m\u001b[0m\n\u001b[1;32m    253\u001b[0m                 \u001b[0mlist\u001b[0m\u001b[0;34m(\u001b[0m\u001b[0margs\u001b[0m\u001b[0;34m)\u001b[0m\u001b[0;34m,\u001b[0m\u001b[0;34m\u001b[0m\u001b[0;34m\u001b[0m\u001b[0m\n",
            "\u001b[0;32m/usr/local/lib/python3.10/dist-packages/tensorflow/python/eager/context.py\u001b[0m in \u001b[0;36mcall_function\u001b[0;34m(self, name, tensor_inputs, num_outputs)\u001b[0m\n\u001b[1;32m   1484\u001b[0m     \u001b[0mcancellation_context\u001b[0m \u001b[0;34m=\u001b[0m \u001b[0mcancellation\u001b[0m\u001b[0;34m.\u001b[0m\u001b[0mcontext\u001b[0m\u001b[0;34m(\u001b[0m\u001b[0;34m)\u001b[0m\u001b[0;34m\u001b[0m\u001b[0;34m\u001b[0m\u001b[0m\n\u001b[1;32m   1485\u001b[0m     \u001b[0;32mif\u001b[0m \u001b[0mcancellation_context\u001b[0m \u001b[0;32mis\u001b[0m \u001b[0;32mNone\u001b[0m\u001b[0;34m:\u001b[0m\u001b[0;34m\u001b[0m\u001b[0;34m\u001b[0m\u001b[0m\n\u001b[0;32m-> 1486\u001b[0;31m       outputs = execute.execute(\n\u001b[0m\u001b[1;32m   1487\u001b[0m           \u001b[0mname\u001b[0m\u001b[0;34m.\u001b[0m\u001b[0mdecode\u001b[0m\u001b[0;34m(\u001b[0m\u001b[0;34m\"utf-8\"\u001b[0m\u001b[0;34m)\u001b[0m\u001b[0;34m,\u001b[0m\u001b[0;34m\u001b[0m\u001b[0;34m\u001b[0m\u001b[0m\n\u001b[1;32m   1488\u001b[0m           \u001b[0mnum_outputs\u001b[0m\u001b[0;34m=\u001b[0m\u001b[0mnum_outputs\u001b[0m\u001b[0;34m,\u001b[0m\u001b[0;34m\u001b[0m\u001b[0;34m\u001b[0m\u001b[0m\n",
            "\u001b[0;32m/usr/local/lib/python3.10/dist-packages/tensorflow/python/eager/execute.py\u001b[0m in \u001b[0;36mquick_execute\u001b[0;34m(op_name, num_outputs, inputs, attrs, ctx, name)\u001b[0m\n\u001b[1;32m     51\u001b[0m   \u001b[0;32mtry\u001b[0m\u001b[0;34m:\u001b[0m\u001b[0;34m\u001b[0m\u001b[0;34m\u001b[0m\u001b[0m\n\u001b[1;32m     52\u001b[0m     \u001b[0mctx\u001b[0m\u001b[0;34m.\u001b[0m\u001b[0mensure_initialized\u001b[0m\u001b[0;34m(\u001b[0m\u001b[0;34m)\u001b[0m\u001b[0;34m\u001b[0m\u001b[0;34m\u001b[0m\u001b[0m\n\u001b[0;32m---> 53\u001b[0;31m     tensors = pywrap_tfe.TFE_Py_Execute(ctx._handle, device_name, op_name,\n\u001b[0m\u001b[1;32m     54\u001b[0m                                         inputs, attrs, num_outputs)\n\u001b[1;32m     55\u001b[0m   \u001b[0;32mexcept\u001b[0m \u001b[0mcore\u001b[0m\u001b[0;34m.\u001b[0m\u001b[0m_NotOkStatusException\u001b[0m \u001b[0;32mas\u001b[0m \u001b[0me\u001b[0m\u001b[0;34m:\u001b[0m\u001b[0;34m\u001b[0m\u001b[0;34m\u001b[0m\u001b[0m\n",
            "\u001b[0;31mKeyboardInterrupt\u001b[0m: "
          ]
        }
      ]
    },
    {
      "cell_type": "code",
      "source": [
        "def generate_faces():\n",
        "    \"\"\"Generates random Anime faces\"\"\"\n",
        "\n",
        "    # generate 64 images by giving 64 inputs\n",
        "    noise = tf.random.normal([64,seed_size])\n",
        "    generated_images = dcgan.generator(noise)\n",
        "\n",
        "    fig = plt.figure(figsize=(12,12))\n",
        "    for i in range(generated_images.shape[0]):\n",
        "        plt.subplot(8,8,i+1)\n",
        "        # Convert to range [0,1] for plt.imshow()\n",
        "        plt.imshow((generated_images[i,:,:,:]*0.5+0.5))\n",
        "        plt.axis(\"off\")\n",
        "    plt.show()"
      ],
      "metadata": {
        "id": "JGlzQdHkRYuF"
      },
      "execution_count": null,
      "outputs": []
    },
    {
      "cell_type": "code",
      "source": [
        "generate_faces()"
      ],
      "metadata": {
        "id": "Bx3VeeL4RzdR"
      },
      "execution_count": null,
      "outputs": []
    },
    {
      "cell_type": "code",
      "source": [],
      "metadata": {
        "id": "3Hk_CIeuR09E"
      },
      "execution_count": null,
      "outputs": []
    }
  ]
}